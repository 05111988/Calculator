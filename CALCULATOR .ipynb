{
 "cells": [
  {
   "cell_type": "code",
   "execution_count": 1,
   "id": "f3b8c75a-d4de-4c18-8917-fd6bf05ceb4f",
   "metadata": {},
   "outputs": [
    {
     "name": "stdout",
     "output_type": "stream",
     "text": [
      "\n",
      "                             _____________________\n",
      "                            |  _________________  |\n",
      "                            | |      CALC       | |\n",
      "                            | |_________________| |\n",
      "                            |  ___ ___ ___   ___  |\n",
      "                            | | 7 | 8 | 9 | | + | |\n",
      "                            | |___|___|___| |___| |\n",
      "                            | | 4 | 5 | 6 | | - | |\n",
      "                            | |___|___|___| |___| |\n",
      "                            | | 1 | 2 | 3 | | x | |\n",
      "                            | |___|___|___| |___| |\n",
      "                            | | . | 0 | = | | ÷ | |\n",
      "                            | |___|___|___| |___| |\n",
      "                            |_____________________|\n",
      "\n",
      "\n",
      "\n",
      "\n"
     ]
    }
   ],
   "source": [
    "logo = r\"\"\"\n",
    "                             _____________________\n",
    "                            |  _________________  |\n",
    "                            | |      CALC       | |\n",
    "                            | |_________________| |\n",
    "                            |  ___ ___ ___   ___  |\n",
    "                            | | 7 | 8 | 9 | | + | |\n",
    "                            | |___|___|___| |___| |\n",
    "                            | | 4 | 5 | 6 | | - | |\n",
    "                            | |___|___|___| |___| |\n",
    "                            | | 1 | 2 | 3 | | x | |\n",
    "                            | |___|___|___| |___| |\n",
    "                            | | . | 0 | = | | ÷ | |\n",
    "                            | |___|___|___| |___| |\n",
    "                            |_____________________|\n",
    "\n",
    "\n",
    "\n",
    "\"\"\"\n",
    "print(logo)"
   ]
  },
  {
   "cell_type": "code",
   "execution_count": 7,
   "id": "08c353d5-996a-4f8e-9ab4-fddbd9e48543",
   "metadata": {},
   "outputs": [
    {
     "name": "stdout",
     "output_type": "stream",
     "text": [
      "Lakshika\n",
      "Tomar\n"
     ]
    }
   ],
   "source": [
    "# Function with output\n",
    "def format_name(f_name,l_name):\n",
    "    print(f_name.title())\n",
    "    print(l_name.title())\n",
    "format_name(f_name = \"lakshika\", l_name = \"tomar\")"
   ]
  },
  {
   "cell_type": "code",
   "execution_count": 9,
   "id": "72335ce8-05bd-4828-a687-e2e8e76b6924",
   "metadata": {},
   "outputs": [
    {
     "name": "stdout",
     "output_type": "stream",
     "text": [
      "Lakshika Tomar\n"
     ]
    }
   ],
   "source": [
    "def format_name(f_name,l_name):\n",
    "    formated_f_name = f_name.title()\n",
    "    formated_l_name = l_name.title()\n",
    "    print(f\"{formated_f_name} {formated_l_name}\")\n",
    "format_name(f_name = \"lakshika\", l_name = \"tomar\")"
   ]
  },
  {
   "cell_type": "code",
   "execution_count": 10,
   "id": "667a34ee-044c-4253-8984-ded2198f40b4",
   "metadata": {},
   "outputs": [
    {
     "name": "stdout",
     "output_type": "stream",
     "text": [
      "Lakshika Tomar\n"
     ]
    }
   ],
   "source": [
    "def format_name(f_name,l_name):\n",
    "    formated_f_name = f_name.title()\n",
    "    formated_l_name = l_name.title()\n",
    "    return f\"{formated_f_name} {formated_l_name}\"\n",
    "formated_string = format_name(f_name = \"lakshika\", l_name = \"tomar\")\n",
    "print(formated_string)"
   ]
  },
  {
   "cell_type": "code",
   "execution_count": 18,
   "id": "38fe51fb-d34d-4168-b09c-37b65eaf4afc",
   "metadata": {},
   "outputs": [
    {
     "name": "stdin",
     "output_type": "stream",
     "text": [
      "What is your first name: ? \n",
      "What is your last name: ? \n"
     ]
    },
    {
     "name": "stdout",
     "output_type": "stream",
     "text": [
      "You didn't provide valid inputs\n"
     ]
    }
   ],
   "source": [
    "#Multiple return value\n",
    "def format_name(f_name,l_name):\n",
    "    if f_name == \"\" or l_name == \"\":\n",
    "        return \"You didn't provide valid inputs\"\n",
    "    formated_f_name = f_name.title()\n",
    "    formated_l_name = l_name.title()\n",
    "    return f\"Result: {formated_f_name} {formated_l_name}\"\n",
    "\n",
    "    \n",
    "print(format_name(input(\"What is your first name: ?\"), input(\"What is your last name: ?\")))\n"
   ]
  },
  {
   "cell_type": "code",
   "execution_count": 29,
   "id": "e5a0fa62-69e1-4dcd-ba1b-4847c0516b8d",
   "metadata": {},
   "outputs": [
    {
     "name": "stdout",
     "output_type": "stream",
     "text": [
      "\n",
      "                             _____________________\n",
      "                            |  _________________  |\n",
      "                            | |      CALC       | |\n",
      "                            | |_________________| |\n",
      "                            |  ___ ___ ___   ___  |\n",
      "                            | | 7 | 8 | 9 | | + | |\n",
      "                            | |___|___|___| |___| |\n",
      "                            | | 4 | 5 | 6 | | - | |\n",
      "                            | |___|___|___| |___| |\n",
      "                            | | 1 | 2 | 3 | | x | |\n",
      "                            | |___|___|___| |___| |\n",
      "                            | | . | 0 | = | | ÷ | |\n",
      "                            | |___|___|___| |___| |\n",
      "                            |_____________________|\n",
      "\n",
      "\n",
      "\n",
      "\n"
     ]
    },
    {
     "name": "stdin",
     "output_type": "stream",
     "text": [
      "What is the first number?: \n",
      " 4\n"
     ]
    },
    {
     "name": "stdout",
     "output_type": "stream",
     "text": [
      "+\n",
      "-\n",
      "*\n",
      "/\n"
     ]
    },
    {
     "name": "stdin",
     "output_type": "stream",
     "text": [
      "Pick an operation:  -\n",
      "What is the second number?: \n",
      " 3\n"
     ]
    },
    {
     "name": "stdout",
     "output_type": "stream",
     "text": [
      "4.0 - 3.0 = 1.0\n"
     ]
    },
    {
     "name": "stdin",
     "output_type": "stream",
     "text": [
      "Type 'y' to continue calculating with 1.0 or type 'n' to start a new calculation: \n",
      " y\n"
     ]
    },
    {
     "name": "stdout",
     "output_type": "stream",
     "text": [
      "+\n",
      "-\n",
      "*\n",
      "/\n"
     ]
    },
    {
     "name": "stdin",
     "output_type": "stream",
     "text": [
      "Pick an operation:  /\n",
      "What is the second number?: \n",
      " 10\n"
     ]
    },
    {
     "name": "stdout",
     "output_type": "stream",
     "text": [
      "1.0 / 10.0 = 0.1\n"
     ]
    },
    {
     "name": "stdin",
     "output_type": "stream",
     "text": [
      "Type 'y' to continue calculating with 0.1 or type 'n' to start a new calculation: \n",
      " n\n"
     ]
    }
   ],
   "source": [
    "print(logo)\n",
    "\n",
    "def add(n1,n2):\n",
    "    return n1 + n2\n",
    "\n",
    "def subtract(n1,n2):\n",
    "    return n1 - n2\n",
    "\n",
    "def multiply(n1,n2):\n",
    "    return n1 * n2\n",
    "\n",
    "def divide(n1,n2):\n",
    "    return n1 / n2\n",
    "operations = {\n",
    "    \"+\": add,\n",
    "    \"-\": subtract,\n",
    "    \"*\": multiply,\n",
    "    \"/\": divide\n",
    "}\n",
    "def calculator():\n",
    "    should_accumulate = True\n",
    "    num1 = float(input(\"What is the first number?: \\n\"))\n",
    "    while should_accumulate:    \n",
    "        for symbol in operations:\n",
    "            print(symbol)   \n",
    "        operation_symbol = input(\"Pick an operation: \")\n",
    "        num2 = float(input(\"What is the second number?: \\n\"))\n",
    "        answer = operations[operation_symbol](num1 , num2)\n",
    "        print(f\"{num1} {operation_symbol} {num2} = {answer}\")\n",
    "        choice = input(f\"Type 'y' to continue calculating with {answer} or type 'n' to start a new calculation: \\n\")\n",
    "        if choice == \"y\":\n",
    "            num1 = answer\n",
    "        else:\n",
    "            should_accumulate = False\n",
    "            print(\"\\n\" * 20)\n",
    "        "
   ]
  },
  {
   "cell_type": "code",
   "execution_count": null,
   "id": "4b46dd3c-5cf5-456a-a701-7aea6be2df16",
   "metadata": {},
   "outputs": [],
   "source": []
  }
 ],
 "metadata": {
  "kernelspec": {
   "display_name": "Python 3 (ipykernel)",
   "language": "python",
   "name": "python3"
  },
  "language_info": {
   "codemirror_mode": {
    "name": "ipython",
    "version": 3
   },
   "file_extension": ".py",
   "mimetype": "text/x-python",
   "name": "python",
   "nbconvert_exporter": "python",
   "pygments_lexer": "ipython3",
   "version": "3.13.3"
  }
 },
 "nbformat": 4,
 "nbformat_minor": 5
}
